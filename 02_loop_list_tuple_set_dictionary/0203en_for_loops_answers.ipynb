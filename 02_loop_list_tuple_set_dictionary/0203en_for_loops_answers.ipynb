{
 "cells": [
  {
   "cell_type": "markdown",
   "metadata": {},
   "source": [
    "#### Quick Assignement 1"
   ]
  },
  {
   "cell_type": "code",
   "execution_count": 1,
   "metadata": {},
   "outputs": [
    {
     "name": "stdout",
     "output_type": "stream",
     "text": [
      "monday\n",
      "tuesday\n",
      "wednesday\n",
      "thursday\n",
      "friday\n",
      "saturday\n",
      "sunday\n"
     ]
    }
   ],
   "source": [
    "week = ['monday', 'tuesday', 'wednesday', 'thursday', 'friday', 'saturday', 'sunday']\n",
    "\n",
    "for day in week:\n",
    "     print(day)\n",
    "     "
   ]
  },
  {
   "cell_type": "markdown",
   "metadata": {},
   "source": [
    "#### Quick Assignement 2"
   ]
  },
  {
   "cell_type": "code",
   "execution_count": 2,
   "metadata": {},
   "outputs": [
    {
     "name": "stdout",
     "output_type": "stream",
     "text": [
      "1: , number of characters: 0\n",
      "2: , number of characters: 0\n",
      "3: , number of characters: 0\n",
      "4: , number of characters: 0\n",
      "5: , number of characters: 0\n",
      "Number of words: 5\n"
     ]
    }
   ],
   "source": [
    "words = []\n",
    "\n",
    "for word in range(5):\n",
    "     words.append(input('Enter the word: '))\n",
    "\n",
    "for number, word in enumerate(words):\n",
    "     print(f'{number + 1}: {word}, number of characters: {len(word)}')\n",
    "print('Number of words:', len(words))\n"
   ]
  },
  {
   "cell_type": "markdown",
   "metadata": {},
   "source": [
    "#### Quick Assignement 3"
   ]
  },
  {
   "cell_type": "code",
   "execution_count": 3,
   "metadata": {},
   "outputs": [
    {
     "ename": "ValueError",
     "evalue": "invalid literal for int() with base 10: ''",
     "output_type": "error",
     "traceback": [
      "\u001b[1;31m---------------------------------------------------------------------------\u001b[0m",
      "\u001b[1;31mValueError\u001b[0m                                Traceback (most recent call last)",
      "Cell \u001b[1;32mIn[3], line 1\u001b[0m\n\u001b[1;32m----> 1\u001b[0m year \u001b[38;5;241m=\u001b[39m \u001b[38;5;28;43mint\u001b[39;49m\u001b[43m(\u001b[49m\u001b[38;5;28;43minput\u001b[39;49m\u001b[43m(\u001b[49m\u001b[38;5;124;43m'\u001b[39;49m\u001b[38;5;124;43mEnter year: \u001b[39;49m\u001b[38;5;124;43m'\u001b[39;49m\u001b[43m)\u001b[49m\u001b[43m)\u001b[49m\n\u001b[0;32m      2\u001b[0m \u001b[38;5;28;01mif\u001b[39;00m (year \u001b[38;5;241m%\u001b[39m \u001b[38;5;241m400\u001b[39m \u001b[38;5;241m==\u001b[39m \u001b[38;5;241m0\u001b[39m) \u001b[38;5;129;01mor\u001b[39;00m (year \u001b[38;5;241m%\u001b[39m \u001b[38;5;241m100\u001b[39m \u001b[38;5;241m!=\u001b[39m \u001b[38;5;241m0\u001b[39m \u001b[38;5;129;01mand\u001b[39;00m year \u001b[38;5;241m%\u001b[39m \u001b[38;5;241m4\u001b[39m \u001b[38;5;241m==\u001b[39m \u001b[38;5;241m0\u001b[39m):\n\u001b[0;32m      3\u001b[0m      \u001b[38;5;28mprint\u001b[39m(\u001b[38;5;124m'\u001b[39m\u001b[38;5;124mLeap Year\u001b[39m\u001b[38;5;124m'\u001b[39m)\n",
      "\u001b[1;31mValueError\u001b[0m: invalid literal for int() with base 10: ''"
     ]
    }
   ],
   "source": [
    "year = int(input('Enter year: '))\n",
    "if (year % 400 == 0) or (year % 100 != 0 and year % 4 == 0):\n",
    "     print('Leap Year')\n",
    "else:\n",
    "     print('Not Leap Year')"
   ]
  },
  {
   "cell_type": "markdown",
   "metadata": {},
   "source": [
    "#### Quick Assignement 4"
   ]
  },
  {
   "cell_type": "code",
   "execution_count": 2,
   "metadata": {},
   "outputs": [
    {
     "name": "stdout",
     "output_type": "stream",
     "text": [
      "Alice's Grades:\n",
      "Math: 85\n",
      "Science: 92\n",
      "History: 88\n",
      "\n",
      "Bob's Grades:\n",
      "Math: 78\n",
      "Science: 85\n",
      "History: 90\n",
      "\n",
      "Charlie's Grades:\n",
      "Math: 92\n",
      "Science: 88\n",
      "History: 76\n",
      "\n"
     ]
    }
   ],
   "source": [
    "student_grades = {\n",
    "    'Alice': {'Math': 85, 'Science': 92, 'History': 88},\n",
    "    'Bob': {'Math': 78, 'Science': 85, 'History': 90},\n",
    "    'Charlie': {'Math': 92, 'Science': 88, 'History': 76}\n",
    "}\n",
    "\n",
    "for student, grades in student_grades.items():\n",
    "    print(f\"{student}'s Grades:\")\n",
    "    for subject, grade in grades.items():\n",
    "        print(f\"{subject}: {grade}\")\n",
    "    print()"
   ]
  },
  {
   "cell_type": "markdown",
   "metadata": {},
   "source": []
  }
 ],
 "metadata": {
  "kernelspec": {
   "display_name": "venv",
   "language": "python",
   "name": "python3"
  },
  "language_info": {
   "codemirror_mode": {
    "name": "ipython",
    "version": 3
   },
   "file_extension": ".py",
   "mimetype": "text/x-python",
   "name": "python",
   "nbconvert_exporter": "python",
   "pygments_lexer": "ipython3",
   "version": "3.11.7"
  },
  "orig_nbformat": 4
 },
 "nbformat": 4,
 "nbformat_minor": 2
}
