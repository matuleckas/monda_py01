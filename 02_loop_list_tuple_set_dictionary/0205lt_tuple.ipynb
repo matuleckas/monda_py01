{
 "cells": [
  {
   "cell_type": "markdown",
   "metadata": {},
   "source": [
    "# Tuple\n",
    "Python kalboje tuple yra kolekcijos duomenų tipas, panašus į sąrašą, bet su svarbia skirtimi: \n",
    "- tuple yra nemutabilios. Tai reiškia, kad sukūrus tuple, jo turinys negali būti pakeistas, pridėtas, pašalintas ar modifikuotas. \n",
    "- Tuple apibrėžiamas naudojant skliaustus `()` arba tiesiog kableliais, elementams atskirti. \n",
    "- Tai paprastai supaprastina duomenų tvarkymą ir užtikrina, kad tuple išlieka nepakitęs nuo jo sukūrimo momento.\n",
    "\n",
    "## Tuple kūrimas\n",
    "Tuple kūrimas Python kalboje labai panašus į sąrašo kūrimą, tačiau vietoj laužtinių skliaustų [], naudojami skliaustai `()`:"
   ]
  },
  {
   "cell_type": "code",
   "execution_count": null,
   "metadata": {},
   "outputs": [],
   "source": [
    "vieno_elemento_tuple = (1,)\n",
    "print(vieno_elemento_tuple) # (1,)\n",
    "print(type(vieno_elemento_tuple)) # <class 'tuple'>"
   ]
  },
  {
   "cell_type": "markdown",
   "metadata": {},
   "source": [
    "- Pastaba: Tuščia tuple kurti nera prasmės, todėl ji dažnai yra nenaudojama."
   ]
  },
  {
   "cell_type": "markdown",
   "metadata": {},
   "source": [
    "#### Tuple kūrimas su keliais elementais:"
   ]
  },
  {
   "cell_type": "code",
   "execution_count": null,
   "metadata": {},
   "outputs": [],
   "source": [
    "skaiciu_tuple = (1, 2, 3, 4, 5)\n",
    "print(skaiciu_tuple) # (1, 2, 3, 4, 5)"
   ]
  },
  {
   "cell_type": "code",
   "execution_count": null,
   "metadata": {},
   "outputs": [],
   "source": [
    "sumaisytos_tuple = (1, 'du', 3.0, [4, 5], True)\n",
    "print(sumaisytos_tuple) # (1, 'du', 3.0, [4, 5], True)"
   ]
  },
  {
   "cell_type": "markdown",
   "metadata": {},
   "source": [
    "### Greitas uždavinys 1\n",
    "\n",
    "Sukurkite Python tuple su savo mėgstamomis spalvomis ir ją atspausdinkite. Neužmirškite naudoti skliaustų, kad apibrėžtumėte tuple."
   ]
  },
  {
   "cell_type": "code",
   "execution_count": 5,
   "metadata": {},
   "outputs": [
    {
     "name": "stdout",
     "output_type": "stream",
     "text": [
      "(84, 44, 854, 487, [77, 88], False)\n"
     ]
    }
   ],
   "source": [
    "# jusu kodo vieta\n",
    "tupleee = (84, 44, 854, 487, [77, 88], False)\n",
    "print(tupleee)"
   ]
  },
  {
   "cell_type": "markdown",
   "metadata": {},
   "source": [
    "---\n",
    "\n",
    "**Pavyzdžiui**:"
   ]
  },
  {
   "cell_type": "code",
   "execution_count": 6,
   "metadata": {},
   "outputs": [
    {
     "name": "stdout",
     "output_type": "stream",
     "text": [
      "(1, 2, 3, 'a', 'b', 'c', True, False)\n"
     ]
    }
   ],
   "source": [
    "pirma_tuple = (1, 2, 3)\n",
    "antra_tuple = ('a', 'b', 'c')\n",
    "trecia_tuple = (True, False)\n",
    "\n",
    "naujas_tuple = pirma_tuple + antra_tuple + trecia_tuple\n",
    "\n",
    "print(naujas_tuple)"
   ]
  },
  {
   "cell_type": "markdown",
   "metadata": {},
   "source": [
    "# `Greitas uždavinys 4: Vaisių inventoriaus sudarymas`\n",
    "1. Sukurkite tris tuple:\n",
    "- vaisiai: trys vaisių pavadinimai.\n",
    "- spalvos: trys atitinkamos spalvos.\n",
    "- kiekiai: trys kiekiai.\n",
    "2. Sujunkite šiuos tris tuple į vieną, pavadintą \"`inventorius`\".\n",
    "3. Atspausdinkite \"`inventorius`\" tuple.\n",
    "4. Atspausdinkite informaciją apie antrąjį vaisių \"`inventoriaus`\" tuple elementą.\n",
    "5. Apskaičiuokite ir atspausdinkite bendrą vaisių kiekį \"`inventoriaus`\" tuple."
   ]
  },
  {
   "cell_type": "code",
   "execution_count": 15,
   "metadata": {},
   "outputs": [
    {
     "name": "stdout",
     "output_type": "stream",
     "text": [
      "('banan', 'abriox', 'poison', 'yellow', 'orange', 'blckk', 45, 58, 666)\n",
      "antro vaisiaus info: ('abriox', 'orange', 58)\n",
      "769\n"
     ]
    }
   ],
   "source": [
    "# jusu kodo vieta\n",
    "\n",
    "vaisiai = ('banan', 'abriox', 'poison')\n",
    "spalva = ('yellow', 'orange', 'blckk')\n",
    "kiekis = (45, 58, 666)\n",
    "inventorius = vaisiai + spalva + kiekis\n",
    "print(inventorius)\n",
    "antras_vaisius = inventorius[1], inventorius[4], inventorius[7]\n",
    "print('antro vaisiaus info:', antras_vaisius)\n",
    "pilnas_kiekis = sum(inventorius[6:])\n",
    "print(pilnas_kiekis)"
   ]
  },
  {
   "cell_type": "markdown",
   "metadata": {},
   "source": [
    "## Prieiga prie Tuplo Elementų\n",
    "\n",
    "Elementų prieiga tuple yra panaši į sąrašus. \n",
    "- Galvokite apie indeksus kaip apie pozicijas tuple, pradedant nuo pirmojo elemento pozicijos 0. \n",
    "- Paskutinis elementas gali būti pasiekiamas naudojant poziciją -1."
   ]
  },
  {
   "cell_type": "code",
   "execution_count": null,
   "metadata": {},
   "outputs": [],
   "source": [
    "sumaisytas_tuple = (1, 'du', 3.0, [4, 5], True)\n",
    "\n",
    "print(sumaisytas_tuple[0]) # 1\n",
    "print(sumaisytas_tuple[3]) # [4, 5]\n",
    "print(sumaisytas_tuple[-1]) # True"
   ]
  },
  {
   "cell_type": "markdown",
   "metadata": {},
   "source": [
    "### Greitas uždavinys 2\n",
    "\n",
    "Tuplo Indeksavimo Užduotis. Šioje užduotyje praktikuosite prieigą prie elementų tuple. Atlikite šias paprastas užduotis:\n",
    "\n",
    "1. Sukurkite tuplą pavadinimu \"`info`\" su šiais duomenimis:\n",
    "- Jūsų vardas (stringas).\n",
    "- Jūsų amžius (sveikasis skaičius).\n",
    "- Jūsų mėgstama spalva (stringas).\n",
    "2. Atspausdinkite savo amžių, pasiekdami atitinkamą elementą iš tuplo \"`info`\".\n",
    "3. Atspausdinkite savo mėgstamą spalvą."
   ]
  },
  {
   "cell_type": "code",
   "execution_count": 2,
   "metadata": {},
   "outputs": [
    {
     "name": "stdout",
     "output_type": "stream",
     "text": [
      "Mano amžius: 18\n",
      "Mėgstamiausia spalva: blckk\n"
     ]
    }
   ],
   "source": [
    "# jusu kodo vieta\n",
    "vardas = ('OOOO')\n",
    "amzius = (18)\n",
    "spalva = ('blckk')\n",
    "print(\"Mano amžius:\", amzius)\n",
    "print(\"Mėgstamiausia spalva:\", spalva)"
   ]
  },
  {
   "cell_type": "markdown",
   "metadata": {},
   "source": [
    "---\n",
    "\n",
    "## Tuple išpjovimas\n",
    "\n",
    "Išpjovimas tupluose veikia kaip sąrašuose. Galite pasirinkti pradžios ir pabaigos tašką, netgi nuspręsti, koks bus žingsnis.\n",
    "\n",
    "**Štai pavyzdys**:"
   ]
  },
  {
   "cell_type": "code",
   "execution_count": null,
   "metadata": {},
   "outputs": [],
   "source": [
    "# Naudojame raides tuplui demonstruoti\n",
    "raides_tuple = ('a', 'b', 'c', 'd', 'e', 'f')\n",
    "\n",
    "# Pavyzdys 1: Pasirinkite elementus nuo indekso 2 iki 3\n",
    "print(\"Pavyzdys 1:\", raides_tuple[2:4]) # Rezultatas: ('c', 'd')\n",
    "\n",
    "# Pavyzdys 2: Pasirinkite elementus nuo indekso 0, praleisdami kiekvieną antrą elementą, iki indekso 2\n",
    "print(\"Pavyzdys 2:\", raides_tuple[0:3:2]) # Rezultatas: ('a', 'c')\n",
    "\n",
    "# Pavyzdys 3: Pasirinkite elementus nuo pradžios iki indekso 3\n",
    "print(\"Pavyzdys 3:\", raides_tuple[:4]) # Rezultatas: ('a', 'b', 'c', 'd')\n",
    "\n",
    "# Pavyzdys 4: Pasirinkite elementus nuo indekso 2, praleisdami kiekvieną antrą elementą\n",
    "print(\"Pavyzdys 4:\", raides_tuple[2::2]) # Rezultatas: ('c', 'e')\n",
    "\n",
    "# Pavyzdys 5: Apsukime visą tuplą\n",
    "print(\"Pavyzdys 5:\", raides_tuple[::-1]) # Rezultatas: ('f', 'e', 'd', 'c', 'b', 'a')"
   ]
  },
  {
   "cell_type": "markdown",
   "metadata": {},
   "source": [
    "### Greitas uždavinys 3\n",
    "\n",
    "Tuplo Išpjovimas. Parašykite Python programą, kuri apibrėžia tuplą su savaitės dienomis ('`Pirmadienis`', '`Antradienis`', '`Trečiadienis`', '`Ketvirtadienis`', '`Penktadienis`', '`Šeštadienis`', '`Sekmadienis`').\n",
    "\n",
    "Išspausdinkite šias išpjovas:\n",
    "\n",
    "1. Savaitės darbo dienas (nuo pirmadienio iki penktadienio).\n",
    "2. Savaitgalio dienas (šeštadienis ir sekmadienis).\n",
    "3. Pirmoms trim savaitės dienas.\n",
    "4. Paskutinėms trim savaitės dienas.\n",
    "5. Savaitės dienas atvirkštine tvarka.\n"
   ]
  },
  {
   "cell_type": "code",
   "execution_count": 20,
   "metadata": {},
   "outputs": [
    {
     "name": "stdout",
     "output_type": "stream",
     "text": [
      "('pirmadienis', 'antradienis', 'treciadienis', 'ketvirtadienis', 'penktadienis')\n",
      "('šeštadienis', 'sekmadienis')\n",
      "('pirmadienis', 'antradienis', 'treciadienis')\n",
      "('penktadienis', 'šeštadienis', 'sekmadienis')\n",
      "('sekmadienis', 'šeštadienis', 'penktadienis', 'ketvirtadienis', 'treciadienis', 'antradienis', 'pirmadienis')\n"
     ]
    }
   ],
   "source": [
    "# jusu kodo vieta\n",
    "savaites_dienos = ('pirmadienis', 'antradienis', 'treciadienis', \n",
    "'ketvirtadienis', 'penktadienis', 'šeštadienis', 'sekmadienis')\n",
    "darbo_dienos = savaites_dienos[:5]\n",
    "print(darbo_dienos)\n",
    "savaitgalis = savaites_dienos[5:]\n",
    "print(savaitgalis)\n",
    "first_three_days = savaites_dienos[:3]\n",
    "print(first_three_days)\n",
    "last_three_days = savaites_dienos[4:]\n",
    "print(last_three_days)\n",
    "nuo_kito_galo = savaites_dienos[::-1]\n",
    "print(nuo_kito_galo)\n"
   ]
  },
  {
   "cell_type": "markdown",
   "metadata": {},
   "source": [
    "---\n",
    "\n",
    "## Tuple jungimas\n",
    "\n",
    "Norėdami sujungti du ar daugiau tuple, galite naudoti `+` operatorių. \n",
    "Šis operatorius sujungia tuple reikšmes ir grąžina naują tuple su visais elementais. \n",
    "\n",
    "**Pavyzdžiui**:"
   ]
  },
  {
   "cell_type": "code",
   "execution_count": null,
   "metadata": {},
   "outputs": [],
   "source": [
    "pirma_tuple = (1, 2, 3)\n",
    "antra_tuple = ('a', 'b', 'c')\n",
    "trecia_tuple = (True, False)\n",
    "\n",
    "naujas_tuple = pirma_tuple + antra_tuple + trecia_tuple\n",
    "\n",
    "print(naujas_tuple)"
   ]
  },
  {
   "cell_type": "markdown",
   "metadata": {},
   "source": [
    "### Greitas uždavinys 4\n",
    "\n",
    "Vaisių inventoriaus sudarymas\n",
    "\n",
    "1. Sukurkite tris tuple:\n",
    "- vaisiai: trys vaisių pavadinimai.\n",
    "- spalvos: trys atitinkamos spalvos.\n",
    "- kiekiai: trys kiekiai.\n",
    "2. Sujunkite šiuos tris tuple į vieną, pavadintą \"`inventorius`\".\n",
    "3. Atspausdinkite \"`inventorius`\" tuple.\n",
    "4. Atspausdinkite informaciją apie antrąjį vaisių \"`inventoriaus`\" tuple elementą."
   ]
  },
  {
   "cell_type": "code",
   "execution_count": 3,
   "metadata": {},
   "outputs": [
    {
     "name": "stdout",
     "output_type": "stream",
     "text": [
      "('banan', 'abriox', 'poison', 'yellow', 'orange', 'blckk', 45, 58, 666)\n",
      "antro vaisiaus info: ('abriox', 'orange', 58)\n",
      "769\n"
     ]
    }
   ],
   "source": [
    "# jusu kodo vieta\n",
    "\n",
    "vaisiai = ('banan', 'abriox', 'poison')\n",
    "spalva = ('yellow', 'orange', 'blckk')\n",
    "kiekis = (45, 58, 666)\n",
    "inventorius = vaisiai + spalva + kiekis\n",
    "print(inventorius)\n",
    "antras_vaisius = inventorius[1], inventorius[4], inventorius[7]\n",
    "print('antro vaisiaus info:', antras_vaisius)\n",
    "pilnas_kiekis = sum(inventorius[6:])\n",
    "print(pilnas_kiekis)"
   ]
  },
  {
   "cell_type": "markdown",
   "metadata": {},
   "source": [
    "---\n",
    "\n",
    "# Tuplo metodai\n",
    "\n",
    "Tuplai yra nemutabilūs objektai, todėl jie neturi tiek daug metodų kaip sąrašai. Vis dėlto yra keletas naudingų metodų.\n",
    "\n",
    "**Štai keletas pavyzdžiu**:\n",
    "\n",
    "`count(x)` - grąžina, kiek kartų nurodytas elementas pasitaiko tuple.\n"
   ]
  },
  {
   "cell_type": "code",
   "execution_count": 4,
   "metadata": {},
   "outputs": [],
   "source": [
    "raides_tuple = ('a', 'b', 'c', 'a', 'd')\n",
    "print(raides_tuple.count('a'))  # 2"
   ]
  },
  {
   "cell_type": "markdown",
   "metadata": {},
   "source": [
    "`index(x)` - grąžina pirmojo nurodyto elemento indeksą tuple."
   ]
  },
  {
   "cell_type": "code",
   "execution_count": 5,
   "metadata": {},
   "outputs": [
    {
     "name": "stdout",
     "output_type": "stream",
     "text": [
      "0\n"
     ]
    }
   ],
   "source": [
    "raides_tuple = ('a', 'b', 'c', 'a', 'd')\n",
    "print(raides_tuple.index('a'))  # 0"
   ]
  },
  {
   "cell_type": "markdown",
   "metadata": {},
   "source": [
    "### Tikrinimas, ar elementas yra tuple\n",
    "Galite patikrinti, ar tuple yra elementas naudojant `in` operatorių. Šis operatorius grąžins `True`, jei elemento reikšmė yra tuple ir `False`, jei jos nėra."
   ]
  },
  {
   "cell_type": "code",
   "execution_count": null,
   "metadata": {},
   "outputs": [],
   "source": [
    "raides_tuple = ('a', 'b', 'c', 'a', 'd')\n",
    "print('a' in raides_tuple)  # True\n",
    "print('e' in raides_tuple)  # False"
   ]
  },
  {
   "cell_type": "markdown",
   "metadata": {},
   "source": [
    "### Greitas uždavinys 5\n",
    "\n",
    "Tuplo Metodų Praktika. Šioje užduotyje tyrinėsite tuplo metodus. Atlikite šias paprastas užduotis:\n",
    "\n",
    "1. Sukurkite tuplą pavadinimu \"numbers\", kuriame būtų kelios sveikosios reikšmės (pvz., 1, 2, 3, 3, 4, 5).\n",
    "2. Naudodami `count()` metodą, raskite ir atspausdinkite, kiek kartų reikšmė 3 pasitaiko \"numbers\" tuple.\n",
    "3. Naudodami `index()` metodą, raskite ir atspausdinkite pirmojo pasitaikymo reikšmės 4 indeksą \"numbers\" tuple.\n",
    "4. Patikrinkite, ar reikšmė 6 yra \"numbers\" tuple, naudodami `in` operatorių, ir atspausdinkite rezultatą.\n"
   ]
  },
  {
   "cell_type": "code",
   "execution_count": 12,
   "metadata": {},
   "outputs": [
    {
     "name": "stdout",
     "output_type": "stream",
     "text": [
      "2\n",
      "4\n",
      "False\n",
      "True\n",
      "2\n"
     ]
    }
   ],
   "source": [
    "# jusu kodo vieta\n",
    "skaiciukai = (1, 2, 3, 3, 4, 5)\n",
    "print(skaiciukai.count(3))\n",
    "print(skaiciukai.index(4))\n",
    "print(6 in skaiciukai)\n",
    "print(4 in skaiciukai)\n",
    "print(skaiciukai.index(3))\n"
   ]
  },
  {
   "cell_type": "markdown",
   "metadata": {},
   "source": [
    "---\n",
    "\n",
    "## Iteracija per Tuplą\n",
    "\n",
    "Tuplai, kaip sąrašai ir kiti perduodami objektai, gali būti peržiūrimi naudojant `for` ir `while` ciklus. Galite iteruoti per tuplo elementus ir vykdyti įvairias operacijas.\n",
    "\n",
    "Štai pavyzdžiai, kaip iteruoti per tuplą naudojant tiek `for`, tiek `while` ciklus:\n",
    "\n",
    "1. `for` Ciklas:"
   ]
  },
  {
   "cell_type": "code",
   "execution_count": 13,
   "metadata": {},
   "outputs": [
    {
     "name": "stdout",
     "output_type": "stream",
     "text": [
      "obuolys\n",
      "bananas\n",
      "vyšnia\n",
      "datulė\n"
     ]
    }
   ],
   "source": [
    "vaisių_tuplas = ('obuolys', 'bananas', 'vyšnia', 'datulė')\n",
    "\n",
    "# Naudodami for ciklą, iteruoti per tuplą\n",
    "for vaisius in vaisių_tuplas:\n",
    "    print(vaisius)"
   ]
  },
  {
   "cell_type": "markdown",
   "metadata": {},
   "source": [
    "2. `while` Ciklas:"
   ]
  },
  {
   "cell_type": "code",
   "execution_count": 14,
   "metadata": {},
   "outputs": [
    {
     "name": "stdout",
     "output_type": "stream",
     "text": [
      "obuolys\n",
      "bananas\n",
      "vyšnia\n",
      "datulė\n"
     ]
    }
   ],
   "source": [
    "vaisių_tuplas = ('obuolys', 'bananas', 'vyšnia', 'datulė')\n",
    "\n",
    "# Naudodami while ciklą, iteruoti per tuplą\n",
    "indeksas = 0\n",
    "while indeksas < len(vaisių_tuplas):\n",
    "    print(vaisių_tuplas[indeksas])\n",
    "    indeksas += 1"
   ]
  },
  {
   "cell_type": "markdown",
   "metadata": {},
   "source": [
    "Kaip matote, `while` cikle naudojame `len()` funkciją, kad sužinotume, kiek elementų turi tuplas. Tada, naudodami kintamąjį indeksą, kiekvienos iteracijos metu gauname reikšmę, kurią reikia atspausdinti, ir padidiname indekso reikšmę vienetu, kad pereitume prie kito tuplo elemento."
   ]
  },
  {
   "cell_type": "markdown",
   "metadata": {},
   "source": [
    "### Greitas uždavinys 6\n",
    "\n",
    "Tuplo Iteracijos Užduotis. Šioje užduotyje praktikuosite iteraciją per tuplą, naudodami tiek `for`, tiek `while` ciklus.\n",
    "\n",
    "Atlikite šias užduotis:\n",
    "\n",
    "1. Sukurkite tuplą pavadinimu \"`mėnesiai`\", kuriame būtų metų mėnesių pavadinimai.\n",
    "2. Naudodami for ciklą, iteruokite per \"`mėnesiai`\" tuplą ir atspausdinkite kiekvieno mėnesio pavadinimą.\n",
    "3. Naudodami while ciklą, iteruokite per \"`mėnesiai`\" tuplą ir atspausdinkite kiekvieno mėnesio pavadinimą.\n",
    "4. Raskite ir atspausdinkite \"`mėnesiai`\" tuplo ilgį.\n"
   ]
  },
  {
   "cell_type": "code",
   "execution_count": 21,
   "metadata": {},
   "outputs": [
    {
     "name": "stdout",
     "output_type": "stream",
     "text": [
      "sausis\n",
      "vasaris\n",
      "kovas\n",
      "balandis\n",
      "geguže\n",
      "birželis\n",
      "liepa\n",
      "rugpjūtis\n",
      "rugsėjis\n",
      "spalis\n",
      "lapkritis\n",
      "gruodis\n",
      "\n",
      "\n",
      "sausis\n",
      "vasaris\n",
      "kovas\n",
      "balandis\n",
      "geguže\n",
      "birželis\n",
      "liepa\n",
      "rugpjūtis\n",
      "rugsėjis\n",
      "spalis\n",
      "lapkritis\n",
      "gruodis\n",
      "\n",
      "Tuplo mėnesiai: 12\n"
     ]
    }
   ],
   "source": [
    "# jusu kodo vieta\n",
    "menesiai = ('sausis', 'vasaris', 'kovas', 'balandis', 'geguže', \n",
    "'birželis', 'liepa', 'rugpjūtis', 'rugsėjis', 'spalis', 'lapkritis', \n",
    "'gruodis')\n",
    "for menesiu_pavadinimai in menesiai:\n",
    "    print(menesiu_pavadinimai)\n",
    "print(\"\\n\")\n",
    "indeksas = 0\n",
    "while indeksas < len(menesiai):\n",
    "    print(menesiai[indeksas])\n",
    "    indeksas += 1\n",
    "print(\"\\nTuplo mėnesiai:\", len(menesiai))"
   ]
  },
  {
   "cell_type": "markdown",
   "metadata": {},
   "source": [
    "## Papildomas uždavinys: Tuplo Manipuliavimas\n",
    "\n",
    "Šiame papildomame uždavinyje tyrinėsite sudėtingesnes tuplo operacijas, įskaitant manipuliavimą ir transformacijas. \n",
    "\n",
    "Atlikite šias užduotis:\n",
    "\n",
    "1. #DONE Sukurkite tuplą pavadinimu \"`prasomas_tuplas`\", kuriame būtų įvairių duomenų tipų, įskaitant skaičius, tekstus ir sąrašus.\n",
    "2. #DONE Konvertuokite \"`prasomas_tuplas`\" į sąrašą pavadinimu \"`modifikuotas_sarasas`\".\n",
    "3. #DONE Modifikuokite \"`modifikuotas_sarasas`\", pašalindami pirmąjį ir paskutinį elementus.\n",
    "4. #DONE Konvertuokite \"`modifikuotas_sarasas`\" atgal į tuplą pavadinimu \"`naujas_tuplas`\".\n",
    "5. #DONE Raskite ir atspausdinkite, kiek elementų buvo pašalinta iš \"`prasomas_tuplas`\", kad sukurtumėte \"`naujas_tuplas`\".\n",
    "6. #DONE Sukurkite naują tuplą pavadinimu \"`skaiciu_tuplas`\", kuriame būtų tik skaitinės vertės iš \"`prasomas_tuplas`\".\n",
    "7. #DONE Apskaičiuokite ir atspausdinkite visų skaitinių verčių sumą \"`skaiciu_tuplas`\".\n",
    "8. Sukurkite naują tuplą pavadinimu \"`teksto_ilgiai_tuplas`\", kuriame būtų visų \"`prasomas_tuplas`\" teksto ilgiai.\n",
    "9. Atspausdinkite \"teksto_ilgiai_tuplas\".\n",
    "10. Galiausiai, sukurkite žodyną pavadinimu \"`duomenų_zodynas`\" su šiais raktais ir atitinkamomis reikšmėmis:\n",
    "    \"`prasomas_tuplas`\": `prasomas_tuplas`\n",
    "    \"`modifikuotas_sarasas`\": `modifikuotas_sarasas`\n",
    "    \"`naujas_tuplas`\": `naujas_tuplas`\n",
    "    \"`skaiciu_tuplas`\": `skaiciu_tuplas`\n",
    "    \"`teksto_ilgiai_tuplas`\": `texto_ilgiai_tuplas`\n",
    "\n",
    "Jūsų galutinis rezultatas turėtų parodyti kiekvieno žingsnio rezultatus, įskaitant \"`duomenų_zodynas`\" turinį.\n"
   ]
  },
  {
   "cell_type": "code",
   "execution_count": 32,
   "metadata": {},
   "outputs": [
    {
     "name": "stdout",
     "output_type": "stream",
     "text": [
      "['balius', 'kivirčas', 'AAA!', [4, 5, 6], 48]\n",
      "('balius', 'kivirčas', 'AAA!', [4, 5, 6], 48)\n",
      "Pašalintas elementų skaičius: 2\n",
      "(45, 48, 26)\n",
      "Tuplų skaičių suma: 119\n",
      "Teksto ilgis: (6, 8, 4)\n",
      "atsakymas:  {'prasomas_tuplas': (45, 'balius', 'kivirčas', 'AAA!', [4, 5, 6], 48, 26), 'modifikuotas_tuplas': ['balius', 'kivirčas', 'AAA!', [4, 5, 6], 48], 'new_tuplas': ('balius', 'kivirčas', 'AAA!', [4, 5, 6], 48), 'tikskaiciai_tuple': (45, 48, 26), 'teksto_ilgiai_tuplas': (6, 8, 4)}\n"
     ]
    }
   ],
   "source": [
    "# jusu kodo vieta\n",
    "prasomas_tuplas = (45, 'balius', 'kivirčas', 'AAA!', [4, 5, 6], 48, \n",
    "26)\n",
    "modifikuotas_tuplas = list(prasomas_tuplas)\n",
    "modifikuotas_tuplas.pop(0)\n",
    "modifikuotas_tuplas.pop(-1)\n",
    "print(modifikuotas_tuplas)\n",
    "new_tuplas = tuple(modifikuotas_tuplas)\n",
    "print(new_tuplas)\n",
    "pasalinti_elementai = len(prasomas_tuplas) - len(new_tuplas)\n",
    "print(\"Pašalintas elementų skaičius:\", pasalinti_elementai)\n",
    "tikskaiciai_tuple = tuple(item for item in prasomas_tuplas if isinstance(item, (int, float)))\n",
    "print(tikskaiciai_tuple)\n",
    "tuplu_skaiciai_suma = sum(tikskaiciai_tuple)\n",
    "print('Tuplų skaičių suma:', tuplu_skaiciai_suma)\n",
    "teksto_ilgiai_tuplas = tuple(len(item) for item in prasomas_tuplas if isinstance(item, str))\n",
    "print(\"Teksto ilgis:\", teksto_ilgiai_tuplas)\n",
    "duomenų_zodynas = {\"prasomas_tuplas\": prasomas_tuplas, \n",
    "                   \"modifikuotas_tuplas\": modifikuotas_tuplas, \n",
    "                   \"new_tuplas\": new_tuplas, \n",
    "                   \"tikskaiciai_tuple\": tikskaiciai_tuple, \n",
    "                   \"teksto_ilgiai_tuplas\": teksto_ilgiai_tuplas}\n",
    "print(\"atsakymas: \", duomenų_zodynas)"
   ]
  }
 ],
 "metadata": {
  "kernelspec": {
   "display_name": "venv",
   "language": "python",
   "name": "python3"
  },
  "language_info": {
   "codemirror_mode": {
    "name": "ipython",
    "version": 3
   },
   "file_extension": ".py",
   "mimetype": "text/x-python",
   "name": "python",
   "nbconvert_exporter": "python",
   "pygments_lexer": "ipython3",
   "version": "3.11.7"
  }
 },
 "nbformat": 4,
 "nbformat_minor": 2
}
