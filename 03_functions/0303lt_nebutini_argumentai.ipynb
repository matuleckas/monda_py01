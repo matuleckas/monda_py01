{
 "cells": [
  {
   "cell_type": "markdown",
   "metadata": {},
   "source": [
    "# Nebūtini argumentai su numatytomis reikšmėmis ir konkretaus argumento perdavimas\n",
    "\n",
    "Kuriant funkcijas, galima padidinti lankstumą naudojant numatytuosius argumentus su numatytomis reikšmėmis. Ši funkcija leidžia nustatyti numatytąsias reikšmes kai kuriems parametrams, kurie gali būti praleisti, kviečiant funkciją.\n",
    "\n",
    "Pažiūrėkime į šį pavyzdžį:"
   ]
  },
  {
   "cell_type": "code",
   "execution_count": null,
   "metadata": {},
   "outputs": [],
   "source": [
    "def pasisveikinimas(vardas, pasisveikinimas=\"Labas\"):\n",
    "    print(pasisveikinimas + \", \" + vardas)"
   ]
  },
  {
   "cell_type": "markdown",
   "metadata": {},
   "source": [
    "- Šioje funkcijoje '`vardas`' yra privalomas argumentas, o '`pasisveikinimas`' yra pasirenkamas argumentas, turintis numatytąją reikšmę \"`Labas`\". \n",
    "- Kviesdami funkciją, galite pateikti reikšmes abiem argumentams arba tik privalomajam. "
   ]
  },
  {
   "cell_type": "code",
   "execution_count": null,
   "metadata": {},
   "outputs": [],
   "source": [
    "pasisveikinimas(\"Jonas\", \"Sveiki\")  # Rezultatas: Sveiki, Jonas\n",
    "pasisveikinimas(\"Ona\")              # Rezultatas: Labas, Ona"
   ]
  },
  {
   "cell_type": "markdown",
   "metadata": {},
   "source": [
    "Dabar apsvarstykime kitą pavyzdį, susijusį su funkcija, kuri apskaičiuoja prekės kainą:"
   ]
  },
  {
   "cell_type": "code",
   "execution_count": 1,
   "metadata": {},
   "outputs": [],
   "source": [
    "def skaiciuoti_kaina(prekes_pavadinimas, kaina, nuolaida=0, mokestis=21):\n",
    "    kaina_su_nuolaida = kaina * (1 - nuolaida / 100)\n",
    "    kaina_su_mokesciu = kaina_su_nuolaida * (1 + mokestis / 100)\n",
    "    print(f\"{prekes_pavadinimas} - kaina su nuolaida ir mokesčiais: {kaina_su_mokesciu:.2f}€\")"
   ]
  },
  {
   "cell_type": "markdown",
   "metadata": {},
   "source": [
    "- Šioje funkcijoje '`prekes_pavadinimas`' ir '`kaina`' yra privalomi argumentai, o '`nuolaida`' ir '`mokestis`' yra pasirenkami argumentai su numatytosiomis reikšmėmis. \n",
    "- Jei nenurodysite reikšmių '`nuolaida`' ir '`mokestis`' funkcijos iškvietimo metu, bus naudojamos numatytosios reikšmės (`0` ir `21` atitinkamai). \n",
    "\n",
    "Pažiūrėkime, kaip tai veikia:"
   ]
  },
  {
   "cell_type": "code",
   "execution_count": 2,
   "metadata": {},
   "outputs": [
    {
     "name": "stdout",
     "output_type": "stream",
     "text": [
      "Obuolys - kaina su nuolaida ir mokesčiais: 0.95€\n",
      "Avokadas - kaina su nuolaida ir mokesčiais: 1.32€\n",
      "Pienas - kaina su nuolaida ir mokesčiais: 2.42€\n"
     ]
    }
   ],
   "source": [
    "skaiciuoti_kaina(\"Obuolys\", 1.00, 10, 5)\n",
    "skaiciuoti_kaina(\"Avokadas\", 1.20, mokestis=10)\n",
    "skaiciuoti_kaina(\"Pienas\", 2)"
   ]
  },
  {
   "cell_type": "markdown",
   "metadata": {},
   "source": [
    "- Ši funkcija skaičiuoja prekės galutinę kainą, atsižvelgdama į nuolaidas ir mokesčius. \n",
    "- Pasirenkami parametrai '`nuolaida`' ir '`mokestis`' yra aprūpinti numatytosiomis reikšmėmis, suteikiant lankstumą vartotojams, kurie gali nenustatyti šių reikšmių iš anksto."
   ]
  },
  {
   "cell_type": "markdown",
   "metadata": {},
   "source": [
    "### Greita užduotis 1\n",
    "\n",
    "Sukurkite Python funkciją, kuri apskaičiuotų pristatymo išlaidas pagal atstumą, svorį ir kainą už kilogramą.\n",
    "\n",
    "Argumentai:\n",
    "\n",
    "`distance` (privaloma): Atstumas kilometrais.\n",
    "`weight` (neprivalomas, numatytasis 1 kg): Svoris kilogramais.\n",
    "`rate_per_kg` (neprivalomas, numatytasis 5 €/kg): Kaina už kilogramą pristatymui.\n",
    "\n",
    "1. Funkcijoje apskaičiuokite pristatymo išlaidas kaip `distance * weight * rate_per_kg`.\n",
    "1. Atspausdinkite apskaičiuotas pristatymo išlaidas suapvalintas iki dviejų skaitmenų po kablelio, naudodami f-tekstą. Pavyzdžiui: \"Pristatymo kaina: {pristatymo_kaina:.2f} €.\"\n",
    "1. Patikrinkite funkciją iškvieskite bent trijose skirtingose situacijose, tiek su, tiek be svorio ir rate_per_kg nurodymo."
   ]
  },
  {
   "cell_type": "code",
   "execution_count": 16,
   "metadata": {},
   "outputs": [
    {
     "name": "stdout",
     "output_type": "stream",
     "text": [
      "Pristatymo išlaidos: 900.00 €\n",
      "Pristatymo išlaidos: 62.50 €\n",
      "Pristatymo išlaidos: 23.65 €\n",
      "Pristatymo išlaidos: 6.25 €\n",
      "Pristatymo išlaidos: 288.00 €\n",
      "Pristatymo išlaidos: 48.00 €\n",
      "Pristatymo išlaidos: 1440.00 €\n"
     ]
    }
   ],
   "source": [
    "# jusu kodo vieta\n",
    "def apskai_pristatymo_islaidos(atstumas, svoris=1, kaina_uz_kg=5):\n",
    "    prist_islaid = atstumas * svoris * kaina_uz_kg\n",
    "    print(f\"Pristatymo išlaidos: {prist_islaid:.2f} €\")\n",
    "\n",
    "apskai_pristatymo_islaidos(180)\n",
    "apskai_pristatymo_islaidos(12.5)\n",
    "apskai_pristatymo_islaidos(4.73)\n",
    "apskai_pristatymo_islaidos(1.25)\n",
    "apskai_pristatymo_islaidos(48, kaina_uz_kg=6)\n",
    "apskai_pristatymo_islaidos(48, kaina_uz_kg=1)\n",
    "apskai_pristatymo_islaidos(48, svoris=6)"
   ]
  },
  {
   "cell_type": "markdown",
   "metadata": {},
   "source": [
    "---\n",
    "\n",
    "## Argumentų perdavimas pagal pavadinimą\n",
    "\n",
    "TODO: perrašyti pavyzdį ir QA2\n",
    "\n",
    "\n",
    "Argumentų perdavimas pagal pavadinimą reiškia nurodyti, kuri reikšmė eina į kurį argumentą, kviečiant funkciją.\n",
    "\n",
    "**Pavyzdys**:"
   ]
  },
  {
   "cell_type": "code",
   "execution_count": 10,
   "metadata": {},
   "outputs": [
    {
     "name": "stdout",
     "output_type": "stream",
     "text": [
      "5\n"
     ]
    }
   ],
   "source": [
    "def calculate(operation, x, y):\n",
    "    if operation == \"add\":\n",
    "        return x + y\n",
    "    elif operation == \"subtract\":\n",
    "        return x - y\n",
    "    elif operation == \"multiply\":\n",
    "        return x * y\n",
    "    elif operation == \"divide\":\n",
    "        return x / y\n",
    "\n",
    "# Kviečiant calculate funkciją, išreikštinai pavadinkite argumentus\n",
    "result = calculate(x=2, y=3, operation=\"divide\")\n",
    "print(result)  # Rezultatas: 5"
   ]
  },
  {
   "cell_type": "markdown",
   "metadata": {},
   "source": [
    "- Šioje funkcijoje yra trys privalomi argumentai: `operation`, `x` ir `y`. \n",
    "- Kviečiant funkciją, galite nurodyti argumento `pavadinimą`, po to `==` ir priskirti norimą `reikšmę`, kurią norite perduoti funkcijai. \n",
    "- Tai užtikrina, kad kiekvienas argumentas būtų perduotas teisingai, išvengiant klaidų."
   ]
  },
  {
   "cell_type": "markdown",
   "metadata": {},
   "source": [
    "### Greita Užduotis 2\n",
    "\n",
    "Šios užduoties tikslas yra suprasti ir praktikuotis argumentų perdavimą pagal pavadinimą Python funkcijose.\n",
    "\n",
    "1. Sukurkite Python funkciją pavadinimu, kuri priima tris argumentus:\n",
    "\n",
    "- `operation` (neprivalomas \"add\"): matematinė operacija (\"`add`\" - sudėtis, \"`subtract`\" - atimtis, \"`multiply`\" - daugyba arba \"`divide`\" - dalyba).\n",
    "- `num1` (neprivalomas 2): Pirmas skaičius.\n",
    "- `num2` (neprivalomas 3): Antras skaičius.\n",
    "\n",
    "2. Funkcijoje vykdykite matematines operacijas, kurios nurodo \"`operation`\" argumentas, išsaugodami rezultatą kintamąjame.\n",
    "3. Atspausdinkite rezultatą su aprašančiu pranešimu. Pavyzdžiui, jei operation yra \"`add`\", pranešimas gali būti: \"sudėjus 2 ir 3 gausime 5.\"\n",
    "4. Patikrinkite funkciją su bent keturiais skirtingais kvietimais, nurodydami operaciją pagal pavadinimą.\n",
    "5. Patikrinkite funkciją nurodydami tik `num1` arba `num2`.\n",
    "6. Kas bus, jeigu funciją paleisite nenurodę jokių argumentų?\n",
    "\n",
    "```python\n",
    "\n",
    "# matematinės operacijos iššaukimo pavyzdys\n",
    "calculate(operation=\"add\", num1=2, num2=3)\n",
    "```"
   ]
  },
  {
   "cell_type": "code",
   "execution_count": 28,
   "metadata": {},
   "outputs": [
    {
     "name": "stdout",
     "output_type": "stream",
     "text": [
      "The result of adding 2 and 3 is 5.\n",
      "The result of subtracting 4 from 10 is 6.\n",
      "The result of multiplying 5 and 7 is 35.\n",
      "The result of dividing 15 by 3 is 5.0.\n",
      "The result of adding 7 and 3 is 10.\n",
      "The result of adding 2 and 5 is 7.\n"
     ]
    }
   ],
   "source": [
    "# jusu kodo vieta\n",
    "def kalikuliatoriuuz(operacija=\"add\", num1=2, num2=3):\n",
    "    if operacija == \"add\":\n",
    "        rezultatata = num1 + num2\n",
    "        print(f\"The result of adding {num1} and {num2} is {rezultatata}.\")\n",
    "    elif operacija == \"subtract\":\n",
    "        rezultatata = num1 - num2\n",
    "        print(f\"The result of subtracting {num2} from {num1} is {rezultatata}.\")\n",
    "    elif operacija == \"multiply\":\n",
    "        rezultatata = num1 * num2\n",
    "        print(f\"The result of multiplying {num1} and {num2} is {rezultatata}.\")\n",
    "    elif operacija == \"divide\":\n",
    "        if num2 != 0:\n",
    "            rezultatata = num1 / num2\n",
    "            print(f\"The result of dividing {num1} by {num2} is {rezultatata}.\")\n",
    "        else:\n",
    "            print(\"Error: Division by zero is not allowed.\")\n",
    "\n",
    "# Test Cases\n",
    "kalikuliatoriuuz(operacija=\"add\", num1=2, num2=3)\n",
    "kalikuliatoriuuz(operacija=\"subtract\", num1=10, num2=4)\n",
    "kalikuliatoriuuz(operacija=\"multiply\", num1=5, num2=7)\n",
    "kalikuliatoriuuz(operacija=\"divide\", num1=15, num2=3)\n",
    "kalikuliatoriuuz(num1=7)\n",
    "kalikuliatoriuuz(num2=5)"
   ]
  },
  {
   "cell_type": "markdown",
   "metadata": {},
   "source": [
    "## Papildoma užduotis\n",
    "\n",
    "Sukurti funkciją, grąžinančią asmeninę informacijos kortelės tekstą\n",
    "\n",
    "**Užduotis**: Šios užduoties tikslas yra sukurti Python funkciją, kuri sugeneruotų asmeninę informacijos kortelę su pasirinktais duomenimis.\n",
    "\n",
    "**Instrukcijos**:\n",
    "\n",
    "1. Sukurkite Python funkciją pavadinimu `generate_info_card`, kuri priima šiuos argumentus:\n",
    "\n",
    "- `name` (privaloma): Asmens `vardas`.\n",
    "- `age` (neprivalomas, numatytasis `25`): Asmens amžius.\n",
    "- `city` (neprivalomas, numatytasis \"`Unknown`\"): Asmens miestas.\n",
    "- `country` (neprivalomas, numatytasis \"`Unknown`\"): Asmens šalis.\n",
    "\n",
    "2. Funkcijoje naudokite pateiktus informacijos kortelę duomenis ir grąžinkite ją kaip tekstą.\n",
    "3. Atpausdinkite informacijos kortelę su suformatuotu pranešimu. Pavyzdžiui:\n",
    "\n",
    "```\n",
    "Asmens Kortelė:\n",
    "Vardas: John\n",
    "Amžius: 30\n",
    "Miestas: New York\n",
    "Šalis: USA\n",
    "```\n",
    "\n",
    "4. Patikrinkite funkciją su bent trimis skirtingais kvietimais, nurodydami kai kuriuos argumentus pagal pavadinimą, o kitus palikdami naudoti numatytąsias reikšmes.\n",
    "\n",
    "```python\n",
    "# iššaukimo pavyzdys\n",
    "generate_info_card(name=\"Alice\", age=28, city=\"London\", country=\"UK\")\n",
    "```"
   ]
  },
  {
   "cell_type": "code",
   "execution_count": 25,
   "metadata": {},
   "outputs": [
    {
     "name": "stdout",
     "output_type": "stream",
     "text": [
      "ID INFO:\n",
      "Vardas: Vargas\n",
      "Amžius: 28\n",
      "Miestas: azerbajedžen\n",
      "Šalis: NEŽINOMA\n",
      "ID INFO:\n",
      "Vardas: XXXX\n",
      "Amžius: 35\n",
      "Miestas: jokūbavaXDDD\n",
      "Šalis: plytžeme\n",
      "ID INFO:\n",
      "Vardas: ricch4eva\n",
      "Amžius: 25\n",
      "Miestas: jokūbavaXDDD\n",
      "Šalis: BRONX\n"
     ]
    }
   ],
   "source": [
    "# jusu kodo vieta\n",
    "def id_korta(vardas, amzius=25, miestas=\"jokūbavaXDDD\", salis=\"plytžeme\"):\n",
    "    info_korta = f\"ID INFO:\\nVardas: {vardas}\\nAmžius: {amzius}\\nMiestas: {miestas}\\nŠalis: {salis}\"\n",
    "    print(info_korta)\n",
    "\n",
    "# Test Cases\n",
    "id_korta(vardas=\"Vargas\", amzius=28, miestas=\"azerbajedžen\", salis=\"NEŽINOMA\")\n",
    "id_korta(vardas=\"XXXX\", amzius=35)\n",
    "id_korta(vardas=\"ricch4eva\", salis=\"BRONX\")\n"
   ]
  }
 ],
 "metadata": {
  "kernelspec": {
   "display_name": "venv",
   "language": "python",
   "name": "python3"
  },
  "language_info": {
   "codemirror_mode": {
    "name": "ipython",
    "version": 3
   },
   "file_extension": ".py",
   "mimetype": "text/x-python",
   "name": "python",
   "nbconvert_exporter": "python",
   "pygments_lexer": "ipython3",
   "version": "3.11.7"
  }
 },
 "nbformat": 4,
 "nbformat_minor": 2
}
