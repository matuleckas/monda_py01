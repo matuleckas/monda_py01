{
 "cells": [
  {
   "cell_type": "markdown",
   "metadata": {},
   "source": [
    "# `Quick assignment 1:`"
   ]
  },
  {
   "cell_type": "code",
   "execution_count": null,
   "metadata": {},
   "outputs": [],
   "source": []
  },
  {
   "cell_type": "code",
   "execution_count": null,
   "metadata": {},
   "outputs": [],
   "source": [
    "import random\n",
    "\n",
    "def print_and_sort_random_numbers():\n",
    "    # Generate 10 random integers between 1 and 100\n",
    "    random_numbers = [random.randint(1, 100) for _ in range(10)]\n",
    "\n",
    "    # Print the original list of random numbers\n",
    "    print(\"Original random numbers:\", random_numbers)\n",
    "\n",
    "    # Sort the list in ascending order\n",
    "    random_numbers.sort()\n",
    "\n",
    "    # Print the sorted list\n",
    "    print(\"Sorted numbers:\", random_numbers)\n",
    "\n",
    "# Call the function to see the result\n",
    "print_and_sort_random_numbers()"
   ]
  },
  {
   "cell_type": "markdown",
   "metadata": {},
   "source": [
    "# `Quick assignment 2:`"
   ]
  },
  {
   "cell_type": "code",
   "execution_count": null,
   "metadata": {},
   "outputs": [],
   "source": [
    "#example 1\n",
    "import random\n",
    "\n",
    "print('Three numbers will be generated.')\n",
    "print('If any of them is 5, you lose!')\n",
    "\n",
    "for attempt in range(3):\n",
    "    number = random.randint(1, 6)\n",
    "    print(number)\n",
    "    if number == 5:\n",
    "        print('You lose...')\n",
    "        break\n",
    "else:\n",
    "    print('You win!')\n"
   ]
  },
  {
   "cell_type": "code",
   "execution_count": null,
   "metadata": {},
   "outputs": [],
   "source": [
    "#example 2: using list\n",
    "import random\n",
    "\n",
    "def dice_game():\n",
    "    print(\"Simulating the dice game...\")\n",
    "\n",
    "    dice_rolls = [random.randint(1, 6) for _ in range(3)]\n",
    "\n",
    "    print(\"Dice rolls:\", dice_rolls)\n",
    "\n",
    "    if 5 in dice_rolls:\n",
    "        print(\"You lose...\")\n",
    "    else:\n",
    "        print(\"You win!\")\n",
    "\n",
    "dice_game()"
   ]
  },
  {
   "cell_type": "markdown",
   "metadata": {},
   "source": [
    "# `Quick assignment 3:`"
   ]
  },
  {
   "cell_type": "code",
   "execution_count": null,
   "metadata": {},
   "outputs": [],
   "source": [
    "# example 1\n",
    "import calendar\n",
    "\n",
    "def print_monthly_calendar_counting_weekends(year, month):\n",
    "    # Print the calendar for the specified year and month\n",
    "    print(calendar.month(year, month))\n",
    "\n",
    "    # Determine the number of days in the month\n",
    "    _, month_length = calendar.monthrange(year, month)\n",
    "\n",
    "    # Count the weekend days (Saturdays and Sundays)\n",
    "    weekend_days = 0\n",
    "    for day in range(1, month_length + 1):\n",
    "        day_of_week = calendar.weekday(year, month, day)\n",
    "        if day_of_week == 5 or day_of_week == 6:\n",
    "            weekend_days += 1\n",
    "\n",
    "    print(f\"Number of weekend days in this month: {weekend_days}\")\n",
    "\n",
    "# Example with April 2023\n",
    "print_monthly_calendar_counting_weekends(2023, 4)\n"
   ]
  },
  {
   "cell_type": "code",
   "execution_count": null,
   "metadata": {},
   "outputs": [],
   "source": [
    "# example 2\n",
    "import calendar\n",
    "\n",
    "def print_month_calendar(year, month):\n",
    "    # Print the calendar for the specified year and month\n",
    "    cal = calendar.month(year, month)\n",
    "    print(f\"Calendar for {calendar.month_name[month]} {year}:\\n{cal}\")\n",
    "\n",
    "    # Calculate the total number of weekend days (Saturdays and Sundays) in the month\n",
    "    _, last_day = calendar.monthrange(year, month)\n",
    "    weekend_count = sum(1 for day in range(1, last_day + 1) if calendar.weekday(year, month, day) in [5, 6])\n",
    "\n",
    "    print(f\"Total weekend days in {calendar.month_name[month]} {year}: {weekend_count}\")\n",
    "\n",
    "# Call the function to print the calendar and count of weekend days for a specific month and year\n",
    "print_month_calendar(2023, 4)"
   ]
  }
 ],
 "metadata": {
  "kernelspec": {
   "display_name": "Python 3",
   "language": "python",
   "name": "python3"
  },
  "language_info": {
   "codemirror_mode": {
    "name": "ipython",
    "version": 3
   },
   "file_extension": ".py",
   "mimetype": "text/x-python",
   "name": "python",
   "nbconvert_exporter": "python",
   "pygments_lexer": "ipython3",
   "version": "3.10.6"
  }
 },
 "nbformat": 4,
 "nbformat_minor": 2
}
