{
 "cells": [
  {
   "cell_type": "markdown",
   "metadata": {},
   "source": [
    "# Pirmoji pilna Python programa"
   ]
  },
  {
   "cell_type": "markdown",
   "metadata": {},
   "source": [
    "Jau beveik žinote pakankamai, kad galėtumėte parašyti pilną programą. Liko tik vartotojo įvestis, ir kintamojo tipo konvertavimas. Dabar mes juos ir išmoksime."
   ]
  },
  {
   "cell_type": "markdown",
   "metadata": {},
   "source": [
    "---\n",
    "\n",
    "## Vartotojo ivestis Python kalboje"
   ]
  },
  {
   "cell_type": "markdown",
   "metadata": {},
   "source": [
    "`input()` Funkcija leidžia programai paklausti vartotojo įvesties, ir tada grąžina tą įvestį kaip eilutę (string). \n",
    "\n",
    "**Sintaksė**:\n",
    "```python\n",
    "input(užklausa)\n",
    "```\n",
    "- `užklausa` (neprivaloma): Eilutė, kuri reprezentuoja numatytąjį pranešimą prieš įvestį.\n",
    "\n",
    "**Pavizdys**: Jei paleisite kodą, jums bus paprašyta įvesti savo vardą. Pateikus įvestį ir paspaudus \"Enter\", programa pasveikins jus naudodama vardą, kurį įvedėte."
   ]
  },
  {
   "cell_type": "code",
   "execution_count": 4,
   "metadata": {},
   "outputs": [
    {
     "name": "stdout",
     "output_type": "stream",
     "text": [
      "Labas, Matas!\n"
     ]
    }
   ],
   "source": [
    "name = input(\"Prašome ivesti savo vardą: Matas\")\n",
    "print(f\"Labas, {name}!\")"
   ]
  },
  {
   "cell_type": "markdown",
   "metadata": {},
   "source": [
    "### Greita užduotis 1\n",
    "\n",
    "Parašykite mažą programą, kuri:\n",
    "1. Paklausia vartotojo apie jų mėgstamiausią `spalvą`.\n",
    "2. Paklausia vartotojo `skaičiaus`.\n",
    "3. Atspausdina teiginį, sakydama, \"Tavo mėgstama spalva yra spalva ir tavo mėgstamas skaičius yra skaičius.\""
   ]
  },
  {
   "cell_type": "code",
   "execution_count": 6,
   "metadata": {},
   "outputs": [
    {
     "name": "stdout",
     "output_type": "stream",
     "text": [
      "Neidomu tavo mėgstamiausia spalva pienas ar skaičius karve\n"
     ]
    }
   ],
   "source": [
    "spalva = input(\"Mėgtamiausia spalva?: \")\n",
    "skaicius = input('Skaičius?: ')\n",
    "print(f\"Neidomu tavo mėgstamiausia spalva {spalva} ar skaičius {skaicius}\")"
   ]
  },
  {
   "cell_type": "markdown",
   "metadata": {},
   "source": [
    "---\n",
    "\n",
    "**Įvesties tipas**: `input()` Funkcija visada grąžina duomenis kaip testo eilutę (string). Jei norite naudoti šiuos duomenis kaip kitą tipą (pavyzdžiui, sveikąjį skaičių ar slankiojo kablelio skaičių), turėsite konvertuoti juos naudojant tipų keitimo funkcijas, pvz., int() arba float()."
   ]
  },
  {
   "cell_type": "code",
   "execution_count": 4,
   "metadata": {},
   "outputs": [
    {
     "name": "stdout",
     "output_type": "stream",
     "text": [
      "Po 10 metų jums bus 50 metų amžiaus.\n"
     ]
    }
   ],
   "source": [
    "amzius = input(\"Prašome įvesti savo amžių: \")\n",
    "amzius = int(amzius) # Konvertuoti eilutę į sveikąjį skaičių\n",
    "print(f\"Po 10 metų jums bus {amzius + 10} metų amžiaus.\")"
   ]
  },
  {
   "cell_type": "code",
   "execution_count": 7,
   "metadata": {},
   "outputs": [
    {
     "name": "stdout",
     "output_type": "stream",
     "text": [
      "Po 10 metų jums bus 30 metų amžiaus.\n"
     ]
    }
   ],
   "source": [
    "amzius = int(input(\"Prašome įvesti savo amžių: \"))\n",
    "print(f\"Po 10 metų jums bus {amzius + 10} metų amžiaus.\")"
   ]
  },
  {
   "cell_type": "code",
   "execution_count": 14,
   "metadata": {},
   "outputs": [
    {
     "name": "stdout",
     "output_type": "stream",
     "text": [
      "jus storas\n"
     ]
    }
   ],
   "source": [
    "svoris = float(input('iveskite savo svori:'))\n",
    "ugis = int(input('iveskite savo ugi centimetrais:'))\n",
    "if svoris / (ugis - 100) >= 1:\n",
    "    print(\"jus storas\")\n",
    "else:\n",
    "    print(\"galit valgyti\")"
   ]
  },
  {
   "cell_type": "markdown",
   "metadata": {},
   "source": [
    "**Saugumo rūpestis**: Būkite atsargūs naudojant `input()` funkciją, ypač jei ketinate naudoti įvestus duomenis bet kokiame kodo vykdyme ar duomenų bazės užklausose. Netinkamai tvarkant šiuos duomenis gali kilti kodo įterpimo atakos rizika."
   ]
  },
  {
   "cell_type": "markdown",
   "metadata": {},
   "source": [
    "### Greita užduotis 2\n",
    "\n",
    "Parašykite paprastą programą, kuri surenka vartotojo ivestį ir iš jos išveda rezultatą. Būkite kūrybingi!"
   ]
  },
  {
   "cell_type": "code",
   "execution_count": 10,
   "metadata": {},
   "outputs": [
    {
     "ename": "ValueError",
     "evalue": "invalid literal for int() with base 10: ''",
     "output_type": "error",
     "traceback": [
      "\u001b[1;31m---------------------------------------------------------------------------\u001b[0m",
      "\u001b[1;31mValueError\u001b[0m                                Traceback (most recent call last)",
      "Cell \u001b[1;32mIn[10], line 2\u001b[0m\n\u001b[0;32m      1\u001b[0m amzius \u001b[38;5;241m=\u001b[39m \u001b[38;5;28minput\u001b[39m(\u001b[38;5;124m\"\u001b[39m\u001b[38;5;124mPrašome įvesti savo amžiu: \u001b[39m\u001b[38;5;124m\"\u001b[39m)\n\u001b[1;32m----> 2\u001b[0m amzius \u001b[38;5;241m=\u001b[39m \u001b[38;5;28;43mint\u001b[39;49m\u001b[43m(\u001b[49m\u001b[43mamzius\u001b[49m\u001b[43m)\u001b[49m\n\u001b[0;32m      3\u001b[0m ugis \u001b[38;5;241m=\u001b[39m \u001b[38;5;28minput\u001b[39m(\u001b[38;5;124m\"\u001b[39m\u001b[38;5;124mJūsu ūgis: \u001b[39m\u001b[38;5;124m\"\u001b[39m)\n\u001b[0;32m      4\u001b[0m ugis \u001b[38;5;241m=\u001b[39m \u001b[38;5;28mint\u001b[39m(ugis)\n",
      "\u001b[1;31mValueError\u001b[0m: invalid literal for int() with base 10: ''"
     ]
    }
   ],
   "source": [
    "amzius = input(\"Prašome įvesti savo amžiu: \")\n",
    "amzius = int(amzius)\n",
    "ugis = input(\"Jūsu ūgis: \")\n",
    "ugis = int(ugis)\n",
    "nesweikas = input(\"Ar žiauriai prasirūkes?: \")\n",
    "nesweikas = int(nesweikas)\n",
    "iksd = input(\"ARŽIAURIAILOL?: \")\n"
   ]
  },
  {
   "cell_type": "markdown",
   "metadata": {},
   "source": [
    "---\n",
    "\n",
    "## Išvada"
   ]
  },
  {
   "cell_type": "markdown",
   "metadata": {},
   "source": [
    "`input()` Funkcija yra esminė, norint padaryti savo Python programą interaktyvia. Tai užpildo spragą tarp vartotojo ir mašinos, leidžiant dinamiškiems programos veiksmams pagrįsti vartotojo įvestimi. Taigi dabar jūs turite galimybę parašyti paprastą programą, kuri paprašo vartotojo įvesties ir atlieka sąveiką su įvestimi. Taigi tai puikus momentas pradėti kurti kodą. Būkite kūrybingi."
   ]
  },
  {
   "cell_type": "markdown",
   "metadata": {},
   "source": [
    "---\n",
    "\n",
    "## Užduotis 1"
   ]
  },
  {
   "cell_type": "markdown",
   "metadata": {},
   "source": [
    "Parašykite pilna Python programa (`skaičiuotuvas.py`) - paprastas python skaičiuotuvas kuris:\n",
    "- paklausia vartotojo, kokį veiksmą jis planuoja atlikti\n",
    "- surenka du skaičius\n",
    "- atlieka pasirinkta operaciją su ivestai dviem skaičiais. Nepamirškite konvertuoti ivesties reikiama tipa.\n",
    "Rekomenduojama naudoti `if ... elif ... else` logika operaciju patikrinimui."
   ]
  },
  {
   "cell_type": "markdown",
   "metadata": {},
   "source": [
    "## Užduotis 2\n",
    "\n",
    "Galite bandyti įvykdyti aukščiau pateiktą užduotį naudodami vieną įvestį ir perduoti ją funkcijai eval() ir išspausdinti rezultatą.\n",
    "Tačiau tokia programa nebūtų saugi, nes vartotojas galėtų vykdyti nepageidaujamą Python kodą, o ne tik paprastą matematikos operaciją.\n",
    "Paeksperimentuokite."
   ]
  },
  {
   "cell_type": "markdown",
   "metadata": {},
   "source": [
    "## Užduotis 3\n",
    "\n",
    "Parašykite programa, kuri surenka vartotojo ivestį ir iš jos išveda rezultatą. Būkite kūrybingi!"
   ]
  }
 ],
 "metadata": {
  "kernelspec": {
   "display_name": "venv",
   "language": "python",
   "name": "python3"
  },
  "language_info": {
   "codemirror_mode": {
    "name": "ipython",
    "version": 3
   },
   "file_extension": ".py",
   "mimetype": "text/x-python",
   "name": "python",
   "nbconvert_exporter": "python",
   "pygments_lexer": "ipython3",
   "version": "3.11.7"
  },
  "orig_nbformat": 4
 },
 "nbformat": 4,
 "nbformat_minor": 2
}
